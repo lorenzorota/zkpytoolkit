{
 "cells": [
  {
   "cell_type": "markdown",
   "id": "a43bf976-862b-4b55-bdfa-1b329dca6f08",
   "metadata": {},
   "source": [
    "# Short demo"
   ]
  },
  {
   "cell_type": "code",
   "execution_count": 1,
   "id": "84c5360e-238d-4add-8414-22a6ec5f84e4",
   "metadata": {},
   "outputs": [],
   "source": [
    "import sys\n",
    "import importlib\n",
    "from zkpytoolkit import ZKP"
   ]
  },
  {
   "cell_type": "markdown",
   "id": "3fa07417-00a9-416b-8490-bd98b7e08124",
   "metadata": {},
   "source": [
    "We always start by importing the compiler and initializing it (can only be done once as it generates a config stored in a OnceCell in Rust!)"
   ]
  },
  {
   "cell_type": "code",
   "execution_count": 2,
   "id": "d479015d-1f3e-4a0e-b573-302a013a227b",
   "metadata": {},
   "outputs": [],
   "source": [
    "zkp = ZKP(\"bls12_381\", 0, \"groth16\")\n",
    "# zkp = ZKP()"
   ]
  },
  {
   "cell_type": "code",
   "execution_count": 3,
   "id": "b6f3508d-dcab-4c8d-ae1f-53288ad5b497",
   "metadata": {},
   "outputs": [],
   "source": [
    "# Only import the field after instantiating the ZKP\n",
    "from zkpytoolkit.types import Private, Public, Array, field"
   ]
  },
  {
   "cell_type": "markdown",
   "id": "09659d25-eae0-4ca9-9750-42b75ff859c0",
   "metadata": {},
   "source": [
    "Let's start with simple matrix multiplication of two private 2x2 matrices over the specified finite field."
   ]
  },
  {
   "cell_type": "code",
   "execution_count": 4,
   "id": "3e855b62-8791-497e-9538-19ceff9b03a7",
   "metadata": {},
   "outputs": [],
   "source": [
    "def mm(\n",
    "    A: Private[Array[Array[field, 2], 2]],\n",
    "    B: Private[Array[Array[field, 2], 2]],\n",
    ") -> Array[Array[field, 2], 2]:\n",
    "    AB: Array[Array[field, 2], 2] = [[field(0) for _ in range(2)] for _ in range(2)]\n",
    "    for i in range(2):\n",
    "        for j in range(2):\n",
    "            for k in range(2):\n",
    "                AB[i][j] = AB[i][j] + A[i][k] * B[k][j]\n",
    "    return AB\n"
   ]
  },
  {
   "cell_type": "markdown",
   "id": "a4908337-4eaf-4182-97a5-632b5b8961fa",
   "metadata": {},
   "source": [
    "We must first compile the function into an R1CS instance"
   ]
  },
  {
   "cell_type": "code",
   "execution_count": 5,
   "id": "8d5df09c-d984-49fd-a25c-a21f9f498bd7",
   "metadata": {},
   "outputs": [],
   "source": [
    "constraints = zkp.compile(mm)"
   ]
  },
  {
   "cell_type": "markdown",
   "id": "e127d0a7-4e6a-419d-80a6-fc8e05cf9a58",
   "metadata": {},
   "source": [
    "If the compilation is successful, we also retrieve the number of constraints from the R1CS"
   ]
  },
  {
   "cell_type": "code",
   "execution_count": 6,
   "id": "cec19396-ad4f-4c5d-bda7-ad068e7a9e46",
   "metadata": {},
   "outputs": [
    {
     "name": "stdout",
     "output_type": "stream",
     "text": [
      "8\n"
     ]
    }
   ],
   "source": [
    "print(constraints)"
   ]
  },
  {
   "cell_type": "markdown",
   "id": "bacdbe59-5eeb-43de-9972-405c0e196eb8",
   "metadata": {},
   "source": [
    "We can now instantiate the prover and verifier statements, and see what a successful zero-knowledge proof looks like. First let us obtain the result of running the function with some private inputs"
   ]
  },
  {
   "cell_type": "code",
   "execution_count": 7,
   "id": "9ff7c19d-052d-41eb-9503-27717da2cc7a",
   "metadata": {},
   "outputs": [
    {
     "name": "stdout",
     "output_type": "stream",
     "text": [
      "[[5476, 2207], [13488, 5265]]\n"
     ]
    }
   ],
   "source": [
    "A = [[field(23), field(52)], [field(99), field(123)]]\n",
    "B = [[field(12), field(1)], [field(100), field(42)]]\n",
    "C = mm(A, B)\n",
    "print(C)"
   ]
  },
  {
   "cell_type": "markdown",
   "id": "d0bd42ec-f8b0-488f-bacc-3dd55efd43ba",
   "metadata": {},
   "source": [
    "Next, we generate the CRS and the proof and then verify the proof"
   ]
  },
  {
   "cell_type": "code",
   "execution_count": 8,
   "id": "32fe9ef5-52ab-482d-b460-db6ecc05fc60",
   "metadata": {},
   "outputs": [
    {
     "data": {
      "text/plain": [
       "True"
      ]
     },
     "execution_count": 8,
     "metadata": {},
     "output_type": "execute_result"
    }
   ],
   "source": [
    "crs = zkp.generate_crs(mm)\n",
    "zkp.store_crs(mm, crs) # optional if run locally\n",
    "proof = zkp.prove(mm, A, B)\n",
    "zkp.store_proof(mm, proof) # optional if run locally\n",
    "zkp.verify(mm, A, B, return_value=C)"
   ]
  },
  {
   "cell_type": "markdown",
   "id": "cb0f5dca-0d3d-48bb-963d-450d6a338dfa",
   "metadata": {},
   "source": [
    "Finally, we clean up the prover and verifier keys and statements."
   ]
  },
  {
   "cell_type": "code",
   "execution_count": 9,
   "id": "b1f7de9f-b04f-4062-89b1-347c86f72285",
   "metadata": {},
   "outputs": [],
   "source": [
    "zkp.cleanup()"
   ]
  },
  {
   "cell_type": "markdown",
   "id": "927ac905-2d47-420b-8e30-314ccfbc5704",
   "metadata": {},
   "source": [
    "Now let us try a more sophisticated example, involving multiple functions and include statements. Let us verifiably compute a function that sums up an integer 3 times by using a sha256-based commitment scheme "
   ]
  },
  {
   "cell_type": "code",
   "execution_count": 10,
   "id": "bd73e0b0-6ba2-4fc9-8c7e-41eb8c063410",
   "metadata": {},
   "outputs": [],
   "source": [
    "from zkpytoolkit.stdlib.commitment.sha256.commit import commit\n",
    "\n",
    "def _3_plus_int(x: Private[int]) -> int:\n",
    "    return x + x + x\n",
    "\n",
    "# We are going to verifiably compute _3_plus_int(x) and\n",
    "# compose that with a proof for the pre-image of sha256(x)\n",
    "def verifiable_plus(x: Private[int], rand: Private[Array[int, 16]], x_comm: Public[Array[int, 8]]) -> int:\n",
    "    x_packed: Array[int, 16] = [x, 0, 0, 0, 0, 0, 0, 0, 0, 0, 0, 0, 0, 0, 0, 0]\n",
    "    assert(x_comm == commit(x_packed, rand))\n",
    "    return _3_plus_int(x)\n"
   ]
  },
  {
   "cell_type": "markdown",
   "id": "60329d6f-97ae-4cbb-95fe-1f4500be8916",
   "metadata": {},
   "source": [
    "Here we have that the commitment for x is public, which means that the verifier must have access to it. In practice, this means that the prover sends the verifier the commitment to x before even computing the target function. This allows the verifier to ensure that the prover is required to compute the function with the claimed value for x.\n",
    "\n",
    "Let's suppose that the prover uses the correct commitment to prove that the 3 plus function was computed correctly"
   ]
  },
  {
   "cell_type": "code",
   "execution_count": 11,
   "id": "7d00be0e-f9fb-4eec-a551-54a88e49303c",
   "metadata": {},
   "outputs": [],
   "source": [
    "rand = [0xfeeae7f2,\n",
    "        0x0114f06d,\n",
    "        0x8e32ac56,\n",
    "        0x2402f7f1,\n",
    "        0x63fa4c5f,\n",
    "        0x76697f3f,\n",
    "        0x72b2adb1,\n",
    "        0xa099e879,\n",
    "        0xaeeb70e0,\n",
    "        0xec6d9161,\n",
    "        0xd7c688d7,\n",
    "        0x13752ab9,\n",
    "        0x1a11dffe,\n",
    "        0x74de3c1c,\n",
    "        0x9ac4b14a,\n",
    "        0xf76ef546]\n",
    "\n",
    "x_comm = [0x8f723116,\n",
    "          0x6d7e4487,\n",
    "          0xfb8ce824,\n",
    "          0x54aae4c5,\n",
    "          0xf6d1b0e7,\n",
    "          0x19b57e17,\n",
    "          0xf50afee0,\n",
    "          0xd1a961ce]"
   ]
  },
  {
   "cell_type": "code",
   "execution_count": 12,
   "id": "efde4220-b264-46b9-b2bb-2429e2b1b58a",
   "metadata": {},
   "outputs": [
    {
     "name": "stdout",
     "output_type": "stream",
     "text": [
      "12\n"
     ]
    }
   ],
   "source": [
    "out = verifiable_plus(4, rand, x_comm)\n",
    "print(out)"
   ]
  },
  {
   "cell_type": "markdown",
   "id": "01243f80-47f8-4781-9c6b-caf633efb183",
   "metadata": {},
   "source": [
    "As we see, this passes the check from the assert statement, so our input commitment matches the claimed commitment hash. Now we run this as a zero-knowledge proof"
   ]
  },
  {
   "cell_type": "code",
   "execution_count": 13,
   "id": "b5bd90df-e346-4213-ba5c-3ae8b16de304",
   "metadata": {},
   "outputs": [
    {
     "data": {
      "text/plain": [
       "True"
      ]
     },
     "execution_count": 13,
     "metadata": {},
     "output_type": "execute_result"
    }
   ],
   "source": [
    "zkp.compile(verifiable_plus, includes=[commit, _3_plus_int], global_vars=globals()) \n",
    "crs = zkp.generate_crs(verifiable_plus)\n",
    "zkp.store_crs(verifiable_plus, crs) # optional if run locally\n",
    "proof = zkp.prove(verifiable_plus, 4, rand, x_comm)\n",
    "zkp.store_proof(verifiable_plus, proof) # optional if run locally\n",
    "zkp.verify(verifiable_plus, 4, rand, x_comm, return_value=out)"
   ]
  },
  {
   "cell_type": "markdown",
   "id": "5a30feac-4ae5-4798-af8b-1562333374d1",
   "metadata": {},
   "source": [
    "Note that sha256 is expensive to convert to R1CS, so in practice we will use a cheaper commitment scheme"
   ]
  },
  {
   "cell_type": "markdown",
   "id": "ca2882c2-fa6f-4cff-83be-06673ec6a8f1",
   "metadata": {},
   "source": [
    "Now suppose that the verifier received a corrupted input commitment"
   ]
  },
  {
   "cell_type": "code",
   "execution_count": 14,
   "id": "c2531f03-1b88-4e2a-8641-0cea5654c595",
   "metadata": {},
   "outputs": [],
   "source": [
    "x_comm[7] = 0xd1a961cf"
   ]
  },
  {
   "cell_type": "markdown",
   "id": "c34a6337-2906-4428-bf9a-335c2c22f652",
   "metadata": {},
   "source": [
    "Let us prepare a new verification statement and then check the zero-knowledge proof"
   ]
  },
  {
   "cell_type": "code",
   "execution_count": 15,
   "id": "62aa0e7c-bd4e-4cc3-a584-0ac4840f6518",
   "metadata": {},
   "outputs": [
    {
     "data": {
      "text/plain": [
       "False"
      ]
     },
     "execution_count": 15,
     "metadata": {},
     "output_type": "execute_result"
    }
   ],
   "source": [
    "zkp.verify(verifiable_plus, 4, rand, x_comm, return_value=out)"
   ]
  },
  {
   "cell_type": "markdown",
   "id": "5561a656-3817-498c-8727-9d37c72c3a9f",
   "metadata": {},
   "source": [
    "As we can see, this did not pass the check, so it is a robust way to ensure that computations are correct w.r.t to their input commitments."
   ]
  },
  {
   "cell_type": "code",
   "execution_count": 16,
   "id": "c15b0912-5004-43b0-bdad-6d1ad5f29fcd",
   "metadata": {},
   "outputs": [],
   "source": [
    "zkp.cleanup()"
   ]
  },
  {
   "cell_type": "markdown",
   "id": "89d80d91-a064-40b2-a32d-262efc373360",
   "metadata": {},
   "source": [
    "Lastly, let us also compute zero-knowledge proofs for the pedersen-hash and poseidon-hash functions (over BN256)"
   ]
  },
  {
   "cell_type": "code",
   "execution_count": 17,
   "id": "fa7be8a2-7d94-4cd8-80fc-807df7199894",
   "metadata": {},
   "outputs": [],
   "source": [
    "from zkpytoolkit.stdlib.commitment.pedersen.bls12_381.commit import commit_int as pedersen\n",
    "\n",
    "def main(input: Private[Array[int, 16]], rand: Private[Array[int, 16]]) -> Array[int, 8]:\n",
    "    hash: Array[int, 8] = pedersen(input, rand)\n",
    "    return hash"
   ]
  },
  {
   "cell_type": "code",
   "execution_count": 18,
   "id": "e4126e30-91af-4f3e-9cf4-b0e9592e74fe",
   "metadata": {},
   "outputs": [
    {
     "name": "stdout",
     "output_type": "stream",
     "text": [
      "input: [1, 1, 1, 1, 1, 1, 1, 1, 1, 1, 1, 1, 1, 1, 1, 1]\n",
      "hash: [892963126, 1086644132, 2482101191, 2670164535, 2255697141, 1082883849, 687455401, 1746318010]\n",
      "True\n",
      "#constraints: 8358\n"
     ]
    }
   ],
   "source": [
    "input = [1 for _ in range(16)]\n",
    "output = main(input, rand)\n",
    "print('input: {}'.format(input))\n",
    "print('hash: {}'.format(output))\n",
    "constraints = zkp.compile(main, includes=[pedersen], global_vars=globals())\n",
    "crs = zkp.generate_crs(main)\n",
    "zkp.store_crs(main, crs) # optional if run locally\n",
    "proof = zkp.prove(main, input, rand)\n",
    "zkp.store_proof(main, proof) # optional if run locally\n",
    "out = zkp.verify(main, None, None, return_value=output)\n",
    "print(out)\n",
    "print('#constraints: {}'.format(constraints))"
   ]
  },
  {
   "cell_type": "code",
   "execution_count": 19,
   "id": "8e1bc9c0-4385-40e0-9592-993da2d715e4",
   "metadata": {},
   "outputs": [],
   "source": [
    "zkp.cleanup()"
   ]
  },
  {
   "cell_type": "markdown",
   "id": "d9d19bc4-e319-45c5-8241-fb8267b31779",
   "metadata": {},
   "source": [
    "Finally we run an example for the poseidon hash"
   ]
  },
  {
   "cell_type": "code",
   "execution_count": 20,
   "id": "0cfcdc3d-8368-4f13-930a-79d515a3bb21",
   "metadata": {},
   "outputs": [],
   "source": [
    "from zkpytoolkit.stdlib.hashes.poseidon.hash import hash\n",
    "\n",
    "# let N = 6 for now\n",
    "def main(inputs: Private[Array[field, 6]]) -> field:\n",
    "    out: field = hash(inputs)\n",
    "    return out"
   ]
  },
  {
   "cell_type": "code",
   "execution_count": 21,
   "id": "d9bdffa7-bc89-4ce9-8141-f6190d3141e7",
   "metadata": {},
   "outputs": [
    {
     "name": "stdout",
     "output_type": "stream",
     "text": [
      "input: [12345678900000000101010101010, 12345678900000000101010101010, 12345678900000000101010101010, 12345678900000000101010101010, 12345678900000000101010101010, 12345678900000000101010101010]\n",
      "hash: 26214379981526208288684581651932840580862893297160543565534219724003945169923\n",
      "True\n",
      "#constraints: 354\n"
     ]
    }
   ],
   "source": [
    "input = [12345678900000000101010101010 for _ in range(6)]\n",
    "output = main(input)\n",
    "print('input: {}'.format(input))\n",
    "print('hash: {}'.format(output))\n",
    "constraints = zkp.compile(main, includes=[hash], global_vars=globals()) \n",
    "crs = zkp.generate_crs(main)\n",
    "zkp.store_crs(main, crs) # optional if run locally\n",
    "proof = zkp.prove(main, input)\n",
    "zkp.store_proof(main, proof) # optional if run locally\n",
    "out = zkp.verify(main, return_value=output)\n",
    "print(out)\n",
    "print('#constraints: {}'.format(constraints))"
   ]
  },
  {
   "cell_type": "code",
   "execution_count": 22,
   "id": "7acb1acc-49a1-4cea-870b-d99a3da02bb2",
   "metadata": {},
   "outputs": [],
   "source": [
    "zkp.cleanup()"
   ]
  }
 ],
 "metadata": {
  "kernelspec": {
   "display_name": "python_zkp_venv",
   "language": "python",
   "name": "python_zkp_venv"
  },
  "language_info": {
   "codemirror_mode": {
    "name": "ipython",
    "version": 3
   },
   "file_extension": ".py",
   "mimetype": "text/x-python",
   "name": "python",
   "nbconvert_exporter": "python",
   "pygments_lexer": "ipython3",
   "version": "3.10.6"
  }
 },
 "nbformat": 4,
 "nbformat_minor": 5
}
